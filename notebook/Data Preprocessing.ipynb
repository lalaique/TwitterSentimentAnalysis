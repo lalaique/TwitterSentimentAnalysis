{
 "cells": [
  {
   "cell_type": "code",
   "execution_count": null,
   "metadata": {
    "id": "6YR8vhj74ruG"
   },
   "outputs": [],
   "source": [
    "import os\n",
    "\n",
    "os.chdir('/Users/willychien/20FDS/Assignment/')\n",
    "print(os.getcwd())"
   ]
  },
  {
   "cell_type": "markdown",
   "metadata": {
    "id": "GVLSLy8P4ruO"
   },
   "source": [
    "### Read in impure dataset"
   ]
  },
  {
   "cell_type": "code",
   "execution_count": null,
   "metadata": {
    "id": "iPDgDec04ruP",
    "outputId": "f193feaa-fd78-4a1b-edd3-78856c3d0826"
   },
   "outputs": [
    {
     "name": "stdout",
     "output_type": "stream",
     "text": [
      "nr duplicated:  13\n",
      "### shape ###\n",
      "nr rows: 30008 | nr cols: 10\n"
     ]
    }
   ],
   "source": [
    "import pandas as pd\n",
    "import re\n",
    "import numpy as np\n",
    "import string \n",
    "from nltk.tokenize import RegexpTokenizer\n",
    "from nltk.tokenize import TweetTokenizer\n",
    "from nltk.stem import PorterStemmer\n",
    "import html.parser as html\n",
    "import nltk\n",
    "from nltk.corpus import stopwords \n",
    "pd.options.display.max_colwidth = None\n",
    "pd.options.display.max_columns = None\n",
    "\n",
    "filename = 'geo_tweets.csv'\n",
    "df = pd.read_csv(filename, encoding ='utf_8')\n",
    "print(\"nr duplicated: \", df.duplicated().sum())\n",
    "print(\"### shape ###\")\n",
    "print(\"nr rows:\", df.shape[0], \"| nr cols:\", df.shape[1])"
   ]
  },
  {
   "cell_type": "markdown",
   "metadata": {
    "id": "Vua-KSyy4ruV"
   },
   "source": [
    "### Identifiying Tags we want to keep"
   ]
  },
  {
   "cell_type": "code",
   "execution_count": null,
   "metadata": {
    "id": "j7KNRavM4ruW",
    "outputId": "f934214b-db1e-4b19-9f74-fdcc24b2ef9f"
   },
   "outputs": [
    {
     "name": "stdout",
     "output_type": "stream",
     "text": [
      "### shape ###\n",
      "nr rows: 30008 | nr cols: 11\n"
     ]
    }
   ],
   "source": [
    "hillary_positive_tags = ['#imwithher', '#clintonkaine16', '#voteclinton', '#hillafornia', '#hilyes', '#voteblue']\n",
    "hillary_negative_tags = ['#neverhillary', '#crookedhillary', '#hillaryshealth', '#hilliary', '#hillary4prison']\n",
    "hillary_tags = ['@hillaryclinton', '#hillaryclinton', '#hillary', '#clinton', 'clinton', 'hillary'] + hillary_positive_tags + hillary_negative_tags\n",
    "\n",
    "trump_positive_tags = ['#trumppence16', '#maga', '#trumptrain', '#makeamericagreatagain']\n",
    "trump_negative_tags = ['#dumptrump', '#nevertrump', '#conmanbaby', '#fuckyoudonald']\n",
    "trump_tags = ['@realdonaldtrump', '#trump', '#donaldtrump', 'trump', 'donald'] + trump_positive_tags + trump_negative_tags\n",
    "\n",
    "tag_list = hillary_tags + trump_tags\n",
    "\n",
    "def has_tag(text: str) -> bool:\n",
    "    text_in_lower_case = text.lower()\n",
    "    return any(word in text_in_lower_case for word in tag_list)\n",
    "\n",
    "df['text_has_tag'] = df['text'].apply(has_tag)\n",
    "print(\"### shape ###\")\n",
    "print(\"nr rows:\", df.shape[0], \"| nr cols:\", df.shape[1])"
   ]
  },
  {
   "cell_type": "code",
   "execution_count": null,
   "metadata": {
    "id": "GVV90Vbi4rua",
    "outputId": "47a5300e-b676-49cf-8130-c7148efa9a58"
   },
   "outputs": [
    {
     "name": "stdout",
     "output_type": "stream",
     "text": [
      "### shape ###\n",
      "nr rows: 27621 | nr cols: 11\n",
      "### describe ###\n",
      "                    text in_reply_to_screen_name  followers_count  \\\n",
      "count              27621                   18138     2.761600e+04   \n",
      "unique             27392                    4499              NaN   \n",
      "top     @realDonaldTrump         realDonaldTrump              NaN   \n",
      "freq                  29                    5845              NaN   \n",
      "mean                 NaN                     NaN     2.923926e+03   \n",
      "std                  NaN                     NaN     6.673818e+04   \n",
      "min                  NaN                     NaN     0.000000e+00   \n",
      "25%                  NaN                     NaN     8.000000e+01   \n",
      "50%                  NaN                     NaN     3.860000e+02   \n",
      "75%                  NaN                     NaN     1.590000e+03   \n",
      "max                  NaN                     NaN     1.085954e+07   \n",
      "\n",
      "        retweet_count                      created_at        id_str  \\\n",
      "count         27616.0                           27616  2.761600e+04   \n",
      "unique            NaN                           23936           NaN   \n",
      "top               NaN  Sat Aug 13 00:36:46 +0000 2016           NaN   \n",
      "freq              NaN                               6           NaN   \n",
      "mean              0.0                             NaN  7.642495e+17   \n",
      "std               0.0                             NaN  1.356675e+14   \n",
      "min               0.0                             NaN  7.640397e+17   \n",
      "25%               0.0                             NaN  7.641384e+17   \n",
      "50%               0.0                             NaN  7.642286e+17   \n",
      "75%               0.0                             NaN  7.643249e+17   \n",
      "max               0.0                             NaN  7.645221e+17   \n",
      "\n",
      "       place_type full_place_name country_code        country text_has_tag  \n",
      "count       27616           27616        27615          27616        27621  \n",
      "unique          5            3637           98            145            1  \n",
      "top          city    Florida, USA           US  United States         True  \n",
      "freq        20659             808        24678          24637        27621  \n",
      "mean          NaN             NaN          NaN            NaN          NaN  \n",
      "std           NaN             NaN          NaN            NaN          NaN  \n",
      "min           NaN             NaN          NaN            NaN          NaN  \n",
      "25%           NaN             NaN          NaN            NaN          NaN  \n",
      "50%           NaN             NaN          NaN            NaN          NaN  \n",
      "75%           NaN             NaN          NaN            NaN          NaN  \n",
      "max           NaN             NaN          NaN            NaN          NaN  \n"
     ]
    }
   ],
   "source": [
    "# Removing the rows where 'text_has_tag' column is false\n",
    "tag_false = df[df['text_has_tag'] == False].index\n",
    "df.drop(tag_false , inplace=True)\n",
    "print(\"### shape ###\")\n",
    "print(\"nr rows:\", df.shape[0], \"| nr cols:\", df.shape[1])\n",
    "print(\"### describe ###\")\n",
    "print(df.describe(include='all'))"
   ]
  },
  {
   "cell_type": "markdown",
   "metadata": {
    "id": "iGrrdmdW4rud"
   },
   "source": [
    "### Drop rows where country != United States"
   ]
  },
  {
   "cell_type": "code",
   "execution_count": null,
   "metadata": {
    "id": "-KsKGOI-4rue",
    "outputId": "585539e4-d5d6-47df-d8e0-69b73ec60199",
    "scrolled": true
   },
   "outputs": [
    {
     "name": "stdout",
     "output_type": "stream",
     "text": [
      "### shape ###\n",
      "nr rows: 24637 | nr cols: 11\n",
      "### describe ###\n",
      "                    text in_reply_to_screen_name  followers_count  \\\n",
      "count              24637                   16210     2.463700e+04   \n",
      "unique             24430                    3947              NaN   \n",
      "top     @realDonaldTrump         realDonaldTrump              NaN   \n",
      "freq                  26                    5387              NaN   \n",
      "mean                 NaN                     NaN     2.776382e+03   \n",
      "std                  NaN                     NaN     6.992751e+04   \n",
      "min                  NaN                     NaN     0.000000e+00   \n",
      "25%                  NaN                     NaN     7.500000e+01   \n",
      "50%                  NaN                     NaN     3.620000e+02   \n",
      "75%                  NaN                     NaN     1.584000e+03   \n",
      "max                  NaN                     NaN     1.085954e+07   \n",
      "\n",
      "        retweet_count                      created_at        id_str  \\\n",
      "count         24637.0                           24637  2.463700e+04   \n",
      "unique            NaN                           21593           NaN   \n",
      "top               NaN  Sat Aug 13 00:36:46 +0000 2016           NaN   \n",
      "freq              NaN                               6           NaN   \n",
      "mean              0.0                             NaN  7.642492e+17   \n",
      "std               0.0                             NaN  1.347271e+14   \n",
      "min               0.0                             NaN  7.640397e+17   \n",
      "25%               0.0                             NaN  7.641390e+17   \n",
      "50%               0.0                             NaN  7.642296e+17   \n",
      "75%               0.0                             NaN  7.643204e+17   \n",
      "max               0.0                             NaN  7.645221e+17   \n",
      "\n",
      "       place_type full_place_name country_code        country text_has_tag  \n",
      "count       24637           24637        24637          24637        24637  \n",
      "unique          5            2847            2              1            1  \n",
      "top          city    Florida, USA           US  United States         True  \n",
      "freq        18247             806        24636          24637        24637  \n",
      "mean          NaN             NaN          NaN            NaN          NaN  \n",
      "std           NaN             NaN          NaN            NaN          NaN  \n",
      "min           NaN             NaN          NaN            NaN          NaN  \n",
      "25%           NaN             NaN          NaN            NaN          NaN  \n",
      "50%           NaN             NaN          NaN            NaN          NaN  \n",
      "75%           NaN             NaN          NaN            NaN          NaN  \n",
      "max           NaN             NaN          NaN            NaN          NaN  \n"
     ]
    }
   ],
   "source": [
    "# Get names of indexes for which column Age has value 30\n",
    "indexNames = df[ df['country'] != \"United States\" ].index\n",
    "# Drop rows that do not contain the US\n",
    "df.drop(indexNames , inplace=True)\n",
    "print(\"### shape ###\")\n",
    "print(\"nr rows:\", df.shape[0], \"| nr cols:\", df.shape[1])\n",
    "print(\"### describe ###\")\n",
    "print(df.describe(include='all'))"
   ]
  },
  {
   "cell_type": "markdown",
   "metadata": {
    "id": "M9ZtYTHT4rug"
   },
   "source": [
    "### Investigate new US filtered df"
   ]
  },
  {
   "cell_type": "code",
   "execution_count": null,
   "metadata": {
    "id": "TWCrlWw84rug",
    "outputId": "d9586d96-e36c-4c76-ba20-0422aa77e056"
   },
   "outputs": [
    {
     "name": "stdout",
     "output_type": "stream",
     "text": [
      "True\n",
      "['city' 'admin' 'neighborhood' 'poi' 'country']\n",
      "### shape ###\n",
      "nr rows: 18247 | nr cols: 11\n",
      "### describe ###\n",
      "                    text in_reply_to_screen_name  followers_count  \\\n",
      "count              18247                   12143     1.824700e+04   \n",
      "unique             18100                    3108              NaN   \n",
      "top     @realDonaldTrump         realDonaldTrump              NaN   \n",
      "freq                  20                    4017              NaN   \n",
      "mean                 NaN                     NaN     2.735736e+03   \n",
      "std                  NaN                     NaN     8.100674e+04   \n",
      "min                  NaN                     NaN     0.000000e+00   \n",
      "25%                  NaN                     NaN     7.300000e+01   \n",
      "50%                  NaN                     NaN     3.470000e+02   \n",
      "75%                  NaN                     NaN     1.402000e+03   \n",
      "max                  NaN                     NaN     1.085954e+07   \n",
      "\n",
      "        retweet_count                      created_at        id_str  \\\n",
      "count         18247.0                           18247  1.824700e+04   \n",
      "unique            NaN                           16542           NaN   \n",
      "top               NaN  Sat Aug 13 00:45:28 +0000 2016           NaN   \n",
      "freq              NaN                               4           NaN   \n",
      "mean              0.0                             NaN  7.642498e+17   \n",
      "std               0.0                             NaN  1.348829e+14   \n",
      "min               0.0                             NaN  7.640397e+17   \n",
      "25%               0.0                             NaN  7.641391e+17   \n",
      "50%               0.0                             NaN  7.642292e+17   \n",
      "75%               0.0                             NaN  7.643219e+17   \n",
      "max               0.0                             NaN  7.645221e+17   \n",
      "\n",
      "       place_type full_place_name country_code        country text_has_tag  \n",
      "count       18247           18247        18247          18247        18247  \n",
      "unique          1            2709            1              1            1  \n",
      "top          city   Manhattan, NY           US  United States         True  \n",
      "freq        18247             563        18247          18247        18247  \n",
      "mean          NaN             NaN          NaN            NaN          NaN  \n",
      "std           NaN             NaN          NaN            NaN          NaN  \n",
      "min           NaN             NaN          NaN            NaN          NaN  \n",
      "25%           NaN             NaN          NaN            NaN          NaN  \n",
      "50%           NaN             NaN          NaN            NaN          NaN  \n",
      "75%           NaN             NaN          NaN            NaN          NaN  \n",
      "max           NaN             NaN          NaN            NaN          NaN  \n"
     ]
    }
   ],
   "source": [
    "#check for any NAs in the whole dataframe\n",
    "print(df.isnull().values.any())\n",
    "\n",
    "# SEEING DIFFERENT TYPES OF PLACE NAMES WITH DIFFERENT FORMATS \n",
    "# WILL GET RID OF EVERYTHING THAT IS NOT IN 'CITY' FORMAT\n",
    "\n",
    "print(df['place_type'].unique())\n",
    "# ['city' 'admin' 'neighborhood' 'poi' 'country']\n",
    "\n",
    "df[df['place_type'] == 'city'] #436,470\n",
    "df[df['place_type'] == 'admin'] #150547  # State, Country\n",
    "df[df['place_type'] == 'neighborhood'] #1212 # Neighbourhood + City or Neighbourhood + State\n",
    "df[df['place_type'] == 'poi'] #2129 #Random\n",
    "df[df['place_type'] == 'country'] #1632 # Country Level - US\n",
    "\n",
    "# Get names of indexes for which column Age has value 30\n",
    "indexNames = df[ df['place_type'] != \"city\" ].index\n",
    "# Drop rows that do not contain 'city' as 'place type'\n",
    "df.drop(indexNames , inplace=True)\n",
    "\n",
    "print(\"### shape ###\")\n",
    "print(\"nr rows:\", df.shape[0], \"| nr cols:\", df.shape[1])\n",
    "print(\"### describe ###\")\n",
    "print(df.describe(include='all'))"
   ]
  },
  {
   "cell_type": "code",
   "execution_count": null,
   "metadata": {
    "id": "K599ydqF4rui",
    "outputId": "deb66225-4a5b-459b-d3bb-d5263b9cc1f7"
   },
   "outputs": [
    {
     "name": "stdout",
     "output_type": "stream",
     "text": [
      "### shape ###\n",
      "nr rows: 18247 | nr cols: 13\n",
      "### describe ###\n",
      "                    text in_reply_to_screen_name  followers_count  \\\n",
      "count              18247                   12143     1.824700e+04   \n",
      "unique             18100                    3108              NaN   \n",
      "top     @realDonaldTrump         realDonaldTrump              NaN   \n",
      "freq                  20                    4017              NaN   \n",
      "mean                 NaN                     NaN     2.735736e+03   \n",
      "std                  NaN                     NaN     8.100674e+04   \n",
      "min                  NaN                     NaN     0.000000e+00   \n",
      "25%                  NaN                     NaN     7.300000e+01   \n",
      "50%                  NaN                     NaN     3.470000e+02   \n",
      "75%                  NaN                     NaN     1.402000e+03   \n",
      "max                  NaN                     NaN     1.085954e+07   \n",
      "\n",
      "        retweet_count                      created_at        id_str  \\\n",
      "count         18247.0                           18247  1.824700e+04   \n",
      "unique            NaN                           16542           NaN   \n",
      "top               NaN  Sat Aug 13 00:45:28 +0000 2016           NaN   \n",
      "freq              NaN                               4           NaN   \n",
      "mean              0.0                             NaN  7.642498e+17   \n",
      "std               0.0                             NaN  1.348829e+14   \n",
      "min               0.0                             NaN  7.640397e+17   \n",
      "25%               0.0                             NaN  7.641391e+17   \n",
      "50%               0.0                             NaN  7.642292e+17   \n",
      "75%               0.0                             NaN  7.643219e+17   \n",
      "max               0.0                             NaN  7.645221e+17   \n",
      "\n",
      "       place_type full_place_name country_code        country text_has_tag  \\\n",
      "count       18247           18247        18247          18247        18247   \n",
      "unique          1            2709            1              1            1   \n",
      "top          city   Manhattan, NY           US  United States         True   \n",
      "freq        18247             563        18247          18247        18247   \n",
      "mean          NaN             NaN          NaN            NaN          NaN   \n",
      "std           NaN             NaN          NaN            NaN          NaN   \n",
      "min           NaN             NaN          NaN            NaN          NaN   \n",
      "25%           NaN             NaN          NaN            NaN          NaN   \n",
      "50%           NaN             NaN          NaN            NaN          NaN   \n",
      "75%           NaN             NaN          NaN            NaN          NaN   \n",
      "max           NaN             NaN          NaN            NaN          NaN   \n",
      "\n",
      "             city  state  \n",
      "count       18247  18247  \n",
      "unique       2439     53  \n",
      "top     Manhattan     CA  \n",
      "freq          568   2611  \n",
      "mean          NaN    NaN  \n",
      "std           NaN    NaN  \n",
      "min           NaN    NaN  \n",
      "25%           NaN    NaN  \n",
      "50%           NaN    NaN  \n",
      "75%           NaN    NaN  \n",
      "max           NaN    NaN  \n",
      "### df.isnull().sum() ###\n",
      "text                          0\n",
      "in_reply_to_screen_name    6104\n",
      "followers_count               0\n",
      "retweet_count                 0\n",
      "created_at                    0\n",
      "id_str                        0\n",
      "place_type                    0\n",
      "full_place_name               0\n",
      "country_code                  0\n",
      "country                       0\n",
      "text_has_tag                  0\n",
      "city                          0\n",
      "state                         0\n",
      "dtype: int64\n"
     ]
    }
   ],
   "source": [
    "# Split full_place_name into City and State\n",
    "\n",
    "df[['city','state']] = df.full_place_name.str.split(\",\",expand=True,)\n",
    "\n",
    "print(\"### shape ###\")\n",
    "print(\"nr rows:\", df.shape[0], \"| nr cols:\", df.shape[1])\n",
    "print(\"### describe ###\")\n",
    "print(df.describe(include='all'))\n",
    "print(\"### df.isnull().sum() ###\")\n",
    "print(df.isnull().sum())"
   ]
  },
  {
   "cell_type": "code",
   "execution_count": null,
   "metadata": {
    "id": "QhhfoRK04ruk",
    "outputId": "1ba23f7b-e9d5-4060-a0dd-c75c8c3f7c16",
    "scrolled": true
   },
   "outputs": [
    {
     "name": "stdout",
     "output_type": "stream",
     "text": [
      "nr duplicated before:  7\n",
      "nr duplicated after:  0\n",
      "### shape ###\n",
      "nr rows: 18240 | nr cols: 13\n"
     ]
    }
   ],
   "source": [
    "# Why would I have duplicate rows in the dataframe?!\n",
    "\n",
    "# Select duplicate rows except first occurrence based on all columns\n",
    "print(\"nr duplicated before: \", df.duplicated().sum())\n",
    "df.drop_duplicates(inplace = True)\n",
    "print(\"nr duplicated after: \", df.duplicated().sum())\n",
    "print(\"### shape ###\")\n",
    "print(\"nr rows:\", df.shape[0], \"| nr cols:\", df.shape[1])"
   ]
  },
  {
   "cell_type": "markdown",
   "metadata": {
    "id": "-AxBh3j74rum"
   },
   "source": [
    "## Begin Tweet Cleaning\n",
    "### 1. Remove hyperlinks"
   ]
  },
  {
   "cell_type": "code",
   "execution_count": null,
   "metadata": {
    "id": "2U_IsDZU4rum"
   },
   "outputs": [],
   "source": [
    "def extract_link(text):\n",
    "    \"\"\" A function that extracts the hyperlinks tweet content \"\"\"\n",
    "    regex = r'https?://[^\\s<>\"]+|www\\.[^\\s<>\"]+'\n",
    "    match = re.search(regex, text)\n",
    "    if match:\n",
    "        return match.group()\n",
    "    return ''"
   ]
  },
  {
   "cell_type": "code",
   "execution_count": null,
   "metadata": {
    "id": "3P-lAapB4ruo"
   },
   "outputs": [],
   "source": [
    "def remove_link(text):\n",
    "    result = re.sub(r\"http\\S+\", \"\", text)\n",
    "    return result\n",
    "\n",
    "df['text_no_http'] = df['text'].apply(remove_link)"
   ]
  },
  {
   "cell_type": "code",
   "execution_count": null,
   "metadata": {
    "id": "Ou4Atv9e4rup",
    "outputId": "787bcd5e-6292-4df4-8b1f-ac81a5b9ac7b"
   },
   "outputs": [
    {
     "name": "stdout",
     "output_type": "stream",
     "text": [
      "null text:  0\n",
      "empty text:  0\n",
      "nr rows: 18240 | nr cols: 14\n"
     ]
    }
   ],
   "source": [
    "# After removing hyperlinks - are there blank lines? NaN?\n",
    "print(\"null text: \", df['text_no_http'].isnull().sum())\n",
    "print(\"empty text: \", df['text_no_http'].eq('').sum())\n",
    "print(\"nr rows:\", df.shape[0], \"| nr cols:\", df.shape[1])"
   ]
  },
  {
   "cell_type": "markdown",
   "metadata": {
    "id": "_JMMAmhm4rur"
   },
   "source": [
    "### 2. Tokenise the dataset"
   ]
  },
  {
   "cell_type": "code",
   "execution_count": null,
   "metadata": {
    "id": "6M1Nwv2J4rur"
   },
   "outputs": [],
   "source": [
    "def tokenize(text):\n",
    "    #tokenizer = RegexpTokenizer(r'\\w+|[!,\\-,]')\n",
    "    tokenizer = TweetTokenizer()\n",
    "    cleaned_tweet_tokens = tokenizer.tokenize(text.lower())\n",
    "    return cleaned_tweet_tokens\n",
    "\n",
    "from nltk.tokenize import TweetTokenizer \n",
    " \n",
    "df['tokens'] = df['text_no_http'].apply(tokenize)"
   ]
  },
  {
   "cell_type": "code",
   "execution_count": null,
   "metadata": {
    "id": "9sFDk7xC4rut",
    "outputId": "cb1699d7-2c24-4cb1-8b4e-6827b9a26cbc"
   },
   "outputs": [
    {
     "name": "stdout",
     "output_type": "stream",
     "text": [
      "['@theblaze', '@realdonaldtrump'] \n",
      "\n",
      "['@barackobama', '@fbi', '@lorettalynch', 'all', 'in', 'collusion', 'together', '#nojustice', '@realdonaldtrump', '#trumppence'] \n",
      "\n",
      "['@theblaze', '@realdonaldtrump'] \n",
      "\n",
      "['#cnn', '#newday', 'clear', '#trump', 'deliberately', 'throwing', 'this', 'race', ',', 'in', '2007', 'he', 'knew', 'that', '#isis', 'and', 'destabilization', 'of', 'mideast', 'started', 'w', '/', 'iraq', 'invasion'] \n",
      "\n",
      "['@realdonaldtrump', ',', 'you', \"wouldn't\", 'recognize', 'a', 'lie', 'if', 'it', 'came', 'from', 'your', 'own', 'mouth', ',', 'and', 'they', 'do', 'continually', '.', '#nevertrump'] \n",
      "\n",
      "['\"', 'kid', ',', 'you', 'know', ',', 'suing', 'someone', '?', 'thats', 'the', 'most', 'beautiful', 'thing', '1', 'human', 'being', 'could', 'do', 'to', 'another', 'human', 'being', '\"', '@funnyordie', '@realdonaldtrump', '😂', '💩', 's'] \n",
      "\n",
      "['@hillaryclinton', 'you', 'are', 'the', 'co-founder', 'of', 'isis', ',', 'you', 'crooked', ',', 'evil', ',', 'lying', ',', 'witch', '.', 'how', 'can', 'you', 'live', 'with', 'yourself', '?'] \n",
      "\n",
      "['@mike4193496', '@realdonaldtrump', 'i', 'totally', 'concur', '!', '!', 'this', 'election', 'is', 'just', 'cra', 'cra', 'n', 'corruption', 'in', 'our', 'gov', 'is', 'mind', 'blowing', '!', '!', 'trump', '=', 'last', 'hope', '!', '!', '!'] \n",
      "\n",
      "['@realdonaldtrump', '@elsolarverde', 'what', 'issues', '?', 'your', 'idiot', 'claim', 'that', 'she', '\"', 'founded', '\"', 'isis', '?', 'trump', 'will', 'go', 'to', 'hell', 'for', 'lying', '&', 'stealing', '.', 'shame', '!'] \n",
      "\n",
      "[\"can't\", 'stand', '@hillaryclinton', 'or', '@realdonaldtrump', '?', 'take', 'a', 'look', '.', 'they', 'can', 'win', '...', \"don't\", 'settle', '.', '#15for15', '#teamgov', '#youin'] \n",
      "\n"
     ]
    }
   ],
   "source": [
    "# Check tokenized tweets\n",
    "\n",
    "for row in df.tokens[0:10]:  # iterating through the rows of the object column\n",
    "    print(row, '\\n')\n"
   ]
  },
  {
   "cell_type": "markdown",
   "metadata": {
    "id": "32jwDRgd4ruu"
   },
   "source": [
    "### 3. Remove Stopwords & Special Characters"
   ]
  },
  {
   "cell_type": "code",
   "execution_count": null,
   "metadata": {
    "id": "4DHPVVwc4ruu",
    "outputId": "ff095cb9-7fde-4a44-a1e2-905dcaf18875"
   },
   "outputs": [
    {
     "name": "stdout",
     "output_type": "stream",
     "text": [
      "stopwords_vocabulary contains she True\n",
      "unecessary_stop_words contains she False\n",
      "### shape ###\n",
      "nr rows: 18240 | nr cols: 16\n"
     ]
    }
   ],
   "source": [
    "import nltk\n",
    "from nltk.corpus import stopwords\n",
    "\n",
    "stopwords_vocabulary = stopwords.words('english')\n",
    "necessary_stop_words = ['he', 'him', 'his', 'himself', 'she', 'her', 'hers', 'herself']\n",
    "unecessary_stop_words = [word for word in stopwords_vocabulary if word not in necessary_stop_words]\n",
    "print('stopwords_vocabulary contains she', 'she' in stopwords_vocabulary)\n",
    "print('unecessary_stop_words contains she', 'she' in unecessary_stop_words)\n",
    "df['no_stopwords'] = df['tokens'].apply(lambda x: [i for i in x if i.lower() not in unecessary_stop_words])\n",
    "print(\"### shape ###\")\n",
    "print(\"nr rows:\", df.shape[0], \"| nr cols:\", df.shape[1])"
   ]
  },
  {
   "cell_type": "code",
   "execution_count": null,
   "metadata": {
    "id": "7hEH8y3P4ruw",
    "outputId": "633803a1-9984-4790-cbb1-6f2bcaba5103"
   },
   "outputs": [
    {
     "name": "stdout",
     "output_type": "stream",
     "text": [
      "['@theblaze', '@realdonaldtrump'] \n",
      "\n",
      "['@barackobama', '@fbi', '@lorettalynch', 'collusion', 'together', '#nojustice', '@realdonaldtrump', '#trumppence'] \n",
      "\n",
      "['@theblaze', '@realdonaldtrump'] \n",
      "\n",
      "['#cnn', '#newday', 'clear', '#trump', 'deliberately', 'throwing', 'race', ',', '2007', 'he', 'knew', '#isis', 'destabilization', 'mideast', 'started', 'w', '/', 'iraq', 'invasion'] \n",
      "\n",
      "['@realdonaldtrump', ',', 'recognize', 'lie', 'came', 'mouth', ',', 'continually', '.', '#nevertrump'] \n",
      "\n",
      "['\"', 'kid', ',', 'know', ',', 'suing', 'someone', '?', 'thats', 'beautiful', 'thing', '1', 'human', 'could', 'another', 'human', '\"', '@funnyordie', '@realdonaldtrump', '😂', '💩'] \n",
      "\n",
      "['@hillaryclinton', 'co-founder', 'isis', ',', 'crooked', ',', 'evil', ',', 'lying', ',', 'witch', '.', 'live', '?'] \n",
      "\n",
      "['@mike4193496', '@realdonaldtrump', 'totally', 'concur', '!', '!', 'election', 'cra', 'cra', 'n', 'corruption', 'gov', 'mind', 'blowing', '!', '!', 'trump', '=', 'last', 'hope', '!', '!', '!'] \n",
      "\n",
      "['@realdonaldtrump', '@elsolarverde', 'issues', '?', 'idiot', 'claim', 'she', '\"', 'founded', '\"', 'isis', '?', 'trump', 'go', 'hell', 'lying', '&', 'stealing', '.', 'shame', '!'] \n",
      "\n",
      "[\"can't\", 'stand', '@hillaryclinton', '@realdonaldtrump', '?', 'take', 'look', '.', 'win', '...', 'settle', '.', '#15for15', '#teamgov', '#youin'] \n",
      "\n"
     ]
    }
   ],
   "source": [
    "# Check tokenized tweets\n",
    "\n",
    "for row in df.no_stopwords[0:10]:  # iterating through the rows of the object column\n",
    "    print(row, '\\n')"
   ]
  },
  {
   "cell_type": "code",
   "execution_count": null,
   "metadata": {
    "id": "fvsK115C4rux",
    "outputId": "0c585178-647e-41d8-995e-23c81aa2e798"
   },
   "outputs": [
    {
     "name": "stdout",
     "output_type": "stream",
     "text": [
      "### shape ###\n",
      "nr rows: 18240 | nr cols: 19\n"
     ]
    }
   ],
   "source": [
    "punctuations = list(string.punctuation) \n",
    "\n",
    "# Remove punctuation\n",
    "df['no_punctuation'] = df['no_stopwords'].apply(lambda tweet: [word for word in tweet if word not in punctuations]) \n",
    "\n",
    "# Remove numbers, but not words that contain numbers.\n",
    "df['no_digits'] = df['no_punctuation'].apply(lambda tweet: [word for word in tweet if not word.isnumeric()]) \n",
    "\n",
    "# Remove words that are only one character.\n",
    "df['before_stemmitizing'] = df['no_digits'].apply(lambda tweet: [word for word in tweet if len(word) > 1]) \n",
    "\n",
    "print(\"### shape ###\")\n",
    "print(\"nr rows:\", df.shape[0], \"| nr cols:\", df.shape[1])"
   ]
  },
  {
   "cell_type": "code",
   "execution_count": null,
   "metadata": {
    "id": "_AHMxM7B4ruy",
    "outputId": "2d1f557e-125a-4cc4-c43f-69d0d58075e8"
   },
   "outputs": [
    {
     "name": "stdout",
     "output_type": "stream",
     "text": [
      "['@theblaze', '@realdonaldtrump'] \n",
      "\n",
      "['@barackobama', '@fbi', '@lorettalynch', 'collusion', 'together', '#nojustice', '@realdonaldtrump', '#trumppence'] \n",
      "\n",
      "['@theblaze', '@realdonaldtrump'] \n",
      "\n",
      "['#cnn', '#newday', 'clear', '#trump', 'deliberately', 'throwing', 'race', 'he', 'knew', '#isis', 'destabilization', 'mideast', 'started', 'iraq', 'invasion'] \n",
      "\n",
      "['@realdonaldtrump', 'recognize', 'lie', 'came', 'mouth', 'continually', '#nevertrump'] \n",
      "\n",
      "['kid', 'know', 'suing', 'someone', 'thats', 'beautiful', 'thing', 'human', 'could', 'another', 'human', '@funnyordie', '@realdonaldtrump'] \n",
      "\n",
      "['@hillaryclinton', 'co-founder', 'isis', 'crooked', 'evil', 'lying', 'witch', 'live'] \n",
      "\n",
      "['@mike4193496', '@realdonaldtrump', 'totally', 'concur', 'election', 'cra', 'cra', 'corruption', 'gov', 'mind', 'blowing', 'trump', 'last', 'hope'] \n",
      "\n",
      "['@realdonaldtrump', '@elsolarverde', 'issues', 'idiot', 'claim', 'she', 'founded', 'isis', 'trump', 'go', 'hell', 'lying', 'stealing', 'shame'] \n",
      "\n",
      "[\"can't\", 'stand', '@hillaryclinton', '@realdonaldtrump', 'take', 'look', 'win', '...', 'settle', '#15for15', '#teamgov', '#youin'] \n",
      "\n"
     ]
    }
   ],
   "source": [
    "# Check tokenized tweets\n",
    "\n",
    "for row in df.before_stemmitizing[0:10]:  # iterating through the rows of the object column\n",
    "    print(row, '\\n')"
   ]
  },
  {
   "cell_type": "markdown",
   "metadata": {
    "id": "dQyypqAJ4ru0"
   },
   "source": [
    "### 4. Stemming tokens"
   ]
  },
  {
   "cell_type": "code",
   "execution_count": null,
   "metadata": {
    "id": "xsfK6DU84ru0"
   },
   "outputs": [],
   "source": [
    "def stemmitize(token):\n",
    "    ps = PorterStemmer() #stemmization \n",
    "    stemmed_words = [ps.stem(w) for w in token] #stemmization \n",
    "    return \" \".join(stemmed_words)\n",
    "\n",
    "df['final'] = df['before_stemmitizing'].apply(stemmitize)"
   ]
  },
  {
   "cell_type": "code",
   "execution_count": null,
   "metadata": {
    "id": "s9XpTQzd4ru2",
    "outputId": "6b55d124-3475-42cd-f080-ca9059cc9dad"
   },
   "outputs": [
    {
     "name": "stdout",
     "output_type": "stream",
     "text": [
      "nr rows: 18240 | nr cols: 20\n",
      "@theblaz @realdonaldtrump \n",
      "\n",
      "@barackobama @fbi @lorettalynch collus togeth #nojustic @realdonaldtrump #trumppenc \n",
      "\n",
      "@theblaz @realdonaldtrump \n",
      "\n",
      "#cnn #newday clear #trump deliber throw race he knew #isi destabil mideast start iraq invas \n",
      "\n",
      "@realdonaldtrump recogn lie came mouth continu #nevertrump \n",
      "\n",
      "kid know su someon that beauti thing human could anoth human @funnyordi @realdonaldtrump \n",
      "\n",
      "@hillaryclinton co-found isi crook evil lie witch live \n",
      "\n",
      "@mike4193496 @realdonaldtrump total concur elect cra cra corrupt gov mind blow trump last hope \n",
      "\n",
      "@realdonaldtrump @elsolarverd issu idiot claim she found isi trump go hell lie steal shame \n",
      "\n",
      "can't stand @hillaryclinton @realdonaldtrump take look win ... settl #15for15 #teamgov #youin \n",
      "\n"
     ]
    }
   ],
   "source": [
    "print(\"nr rows:\", df.shape[0], \"| nr cols:\", df.shape[1])\n",
    "\n",
    "for row in df.final[0:10]:  # iterating through the rows of the object column\n",
    "    print(row, '\\n')"
   ]
  },
  {
   "cell_type": "markdown",
   "metadata": {
    "id": "t8vh4l4g4ru3"
   },
   "source": [
    "### Save dataset"
   ]
  },
  {
   "cell_type": "code",
   "execution_count": null,
   "metadata": {
    "id": "BUos8R2P4ru3",
    "outputId": "44e32e14-9cb8-43b1-cd65-28ff45678b56"
   },
   "outputs": [
    {
     "name": "stdout",
     "output_type": "stream",
     "text": [
      "### describe ###\n",
      "                    text in_reply_to_screen_name  followers_count  \\\n",
      "count              18240                   12139     1.824000e+04   \n",
      "unique             18100                    3108              NaN   \n",
      "top     @realDonaldTrump         realDonaldTrump              NaN   \n",
      "freq                  20                    4016              NaN   \n",
      "mean                 NaN                     NaN     2.736047e+03   \n",
      "std                  NaN                     NaN     8.102227e+04   \n",
      "min                  NaN                     NaN     0.000000e+00   \n",
      "25%                  NaN                     NaN     7.300000e+01   \n",
      "50%                  NaN                     NaN     3.470000e+02   \n",
      "75%                  NaN                     NaN     1.400250e+03   \n",
      "max                  NaN                     NaN     1.085954e+07   \n",
      "\n",
      "        retweet_count                      created_at        id_str  \\\n",
      "count         18240.0                           18240  1.824000e+04   \n",
      "unique            NaN                           16542           NaN   \n",
      "top               NaN  Sat Aug 13 00:45:28 +0000 2016           NaN   \n",
      "freq              NaN                               4           NaN   \n",
      "mean              0.0                             NaN  7.642498e+17   \n",
      "std               0.0                             NaN  1.349024e+14   \n",
      "min               0.0                             NaN  7.640397e+17   \n",
      "25%               0.0                             NaN  7.641390e+17   \n",
      "50%               0.0                             NaN  7.642292e+17   \n",
      "75%               0.0                             NaN  7.643219e+17   \n",
      "max               0.0                             NaN  7.645221e+17   \n",
      "\n",
      "       place_type full_place_name country_code       city  state  \\\n",
      "count       18240           18240        18240      18240  18240   \n",
      "unique          1            2709            1       2439     53   \n",
      "top          city   Manhattan, NY           US  Manhattan     CA   \n",
      "freq        18240             563        18240        568   2609   \n",
      "mean          NaN             NaN          NaN        NaN    NaN   \n",
      "std           NaN             NaN          NaN        NaN    NaN   \n",
      "min           NaN             NaN          NaN        NaN    NaN   \n",
      "25%           NaN             NaN          NaN        NaN    NaN   \n",
      "50%           NaN             NaN          NaN        NaN    NaN   \n",
      "75%           NaN             NaN          NaN        NaN    NaN   \n",
      "max           NaN             NaN          NaN        NaN    NaN   \n",
      "\n",
      "       before_stemmitizing             final  \n",
      "count                18240             18240  \n",
      "unique               17190             17184  \n",
      "top     [@realdonaldtrump]  @realdonaldtrump  \n",
      "freq                   283               283  \n",
      "mean                   NaN               NaN  \n",
      "std                    NaN               NaN  \n",
      "min                    NaN               NaN  \n",
      "25%                    NaN               NaN  \n",
      "50%                    NaN               NaN  \n",
      "75%                    NaN               NaN  \n",
      "max                    NaN               NaN  \n",
      "### df.isnull().sum() ###\n",
      "text                          0\n",
      "in_reply_to_screen_name    6101\n",
      "followers_count               0\n",
      "retweet_count                 0\n",
      "created_at                    0\n",
      "id_str                        0\n",
      "place_type                    0\n",
      "full_place_name               0\n",
      "country_code                  0\n",
      "city                          0\n",
      "state                         0\n",
      "before_stemmitizing           0\n",
      "final                         0\n",
      "dtype: int64\n"
     ]
    }
   ],
   "source": [
    "# Remove processing columns\n",
    "df = df.drop(columns=['country', 'text_has_tag', 'text_no_http', 'tokens', 'no_stopwords', 'no_punctuation', 'no_digits'])\n",
    "\n",
    "print(\"### describe ###\")\n",
    "print(df.describe(include='all'))\n",
    "print(\"### df.isnull().sum() ###\")\n",
    "print(df.isnull().sum())"
   ]
  },
  {
   "cell_type": "code",
   "execution_count": null,
   "metadata": {
    "id": "JR9xVoFx4ru5",
    "outputId": "86839e01-fac6-4669-b87e-7bdace5831c1"
   },
   "outputs": [
    {
     "name": "stdout",
     "output_type": "stream",
     "text": [
      "### test data shape ###\n",
      "nr rows: 286 | nr cols: 17\n",
      "### data shape before ###\n",
      "nr rows: 18240 | nr cols: 13\n",
      "### data shape after ###\n",
      "nr rows: 18239 | nr cols: 14\n",
      "### describe ###\n",
      "                    text in_reply_to_screen_name  followers_count  \\\n",
      "count              18239                   12138     1.823900e+04   \n",
      "unique             18099                    3108              NaN   \n",
      "top     @realDonaldTrump         realDonaldTrump              NaN   \n",
      "freq                  20                    4015              NaN   \n",
      "mean                 NaN                     NaN     2.736083e+03   \n",
      "std                  NaN                     NaN     8.102450e+04   \n",
      "min                  NaN                     NaN     0.000000e+00   \n",
      "25%                  NaN                     NaN     7.300000e+01   \n",
      "50%                  NaN                     NaN     3.470000e+02   \n",
      "75%                  NaN                     NaN     1.400000e+03   \n",
      "max                  NaN                     NaN     1.085954e+07   \n",
      "\n",
      "        retweet_count                      created_at        id_str  \\\n",
      "count         18239.0                           18239  1.823900e+04   \n",
      "unique            NaN                           16541           NaN   \n",
      "top               NaN  Sat Aug 13 00:45:28 +0000 2016           NaN   \n",
      "freq              NaN                               4           NaN   \n",
      "mean              0.0                             NaN  7.642498e+17   \n",
      "std               0.0                             NaN  1.349061e+14   \n",
      "min               0.0                             NaN  7.640397e+17   \n",
      "25%               0.0                             NaN  7.641390e+17   \n",
      "50%               0.0                             NaN  7.642291e+17   \n",
      "75%               0.0                             NaN  7.643219e+17   \n",
      "max               0.0                             NaN  7.645221e+17   \n",
      "\n",
      "       place_type full_place_name country_code       city  state  \\\n",
      "count       18239           18239        18239      18239  18239   \n",
      "unique          1            2709            1       2439     53   \n",
      "top          city   Manhattan, NY           US  Manhattan     CA   \n",
      "freq        18239             563        18239        568   2609   \n",
      "mean          NaN             NaN          NaN        NaN    NaN   \n",
      "std           NaN             NaN          NaN        NaN    NaN   \n",
      "min           NaN             NaN          NaN        NaN    NaN   \n",
      "25%           NaN             NaN          NaN        NaN    NaN   \n",
      "50%           NaN             NaN          NaN        NaN    NaN   \n",
      "75%           NaN             NaN          NaN        NaN    NaN   \n",
      "max           NaN             NaN          NaN        NaN    NaN   \n",
      "\n",
      "       before_stemmitizing             final is_test_data  \n",
      "count                18239             18239        18239  \n",
      "unique               17190             17184            1  \n",
      "top     [@realdonaldtrump]  @realdonaldtrump        False  \n",
      "freq                   283               283        18239  \n",
      "mean                   NaN               NaN          NaN  \n",
      "std                    NaN               NaN          NaN  \n",
      "min                    NaN               NaN          NaN  \n",
      "25%                    NaN               NaN          NaN  \n",
      "50%                    NaN               NaN          NaN  \n",
      "75%                    NaN               NaN          NaN  \n",
      "max                    NaN               NaN          NaN  \n",
      "### df.isnull().sum() ###\n",
      "text                          0\n",
      "in_reply_to_screen_name    6101\n",
      "followers_count               0\n",
      "retweet_count                 0\n",
      "created_at                    0\n",
      "id_str                        0\n",
      "place_type                    0\n",
      "full_place_name               0\n",
      "country_code                  0\n",
      "city                          0\n",
      "state                         0\n",
      "before_stemmitizing           0\n",
      "final                         0\n",
      "is_test_data                  0\n",
      "dtype: int64\n"
     ]
    }
   ],
   "source": [
    "# Remove test data\n",
    "filename = 'test_data.csv'\n",
    "test_df = pd.read_csv(filename, encoding ='utf_8')\n",
    "print(\"### test data shape ###\")\n",
    "print(\"nr rows:\", test_df.shape[0], \"| nr cols:\", test_df.shape[1])\n",
    "\n",
    "test_texts = test_df['text'].unique()\n",
    "\n",
    "def is_test_data(text: str) -> bool:\n",
    "    return text in test_texts\n",
    "\n",
    "print(\"### data shape before ###\")\n",
    "print(\"nr rows:\", df.shape[0], \"| nr cols:\", df.shape[1])\n",
    "df['is_test_data'] = df['text'].apply(is_test_data)\n",
    "df = df[df.is_test_data != True]\n",
    "print(\"### data shape after ###\")\n",
    "print(\"nr rows:\", df.shape[0], \"| nr cols:\", df.shape[1])\n",
    "print(\"### describe ###\")\n",
    "print(df.describe(include='all'))\n",
    "print(\"### df.isnull().sum() ###\")\n",
    "print(df.isnull().sum())\n",
    "df = df.drop(columns=['is_test_data'])"
   ]
  },
  {
   "cell_type": "code",
   "execution_count": null,
   "metadata": {
    "id": "KB-Kz9by4ru6"
   },
   "outputs": [],
   "source": [
    "# Write csv file\n",
    "output_file_name=r'C:\\Users\\Marta\\Dropbox\\2019-Move-to-NL\\UvA\\fundamentals-data-science\\assignments\\assignment1\\processed_data.csv'\n",
    "df.to_csv(output_file_name', index = False)"
   ]
  }
 ],
 "metadata": {
  "colab": {
   "name": "Improved Preprocessing.ipynb",
   "provenance": []
  },
  "kernelspec": {
   "display_name": "Python 3",
   "language": "python",
   "name": "python3"
  },
  "language_info": {
   "codemirror_mode": {
    "name": "ipython",
    "version": 3
   },
   "file_extension": ".py",
   "mimetype": "text/x-python",
   "name": "python",
   "nbconvert_exporter": "python",
   "pygments_lexer": "ipython3",
   "version": "3.8.3"
  }
 },
 "nbformat": 4,
 "nbformat_minor": 1
}
